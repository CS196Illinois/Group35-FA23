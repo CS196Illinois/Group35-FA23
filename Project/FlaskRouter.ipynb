{
 "cells": [
  {
   "cell_type": "code",
   "execution_count": null,
   "id": "b0c08080",
   "metadata": {},
   "outputs": [],
   "source": [
    "# basic imports, just like you would normally use in a python file\n",
    "from werkzeug.wrappers import Request, Response\n",
    "from flask import Flask, render_template, request, url_for, flash, redirect\n",
    "\n",
    "# this sets up your flask app - you can treat this and the above imports and basic starter syntax\n",
    "# that you will always use anytime you want to create a new flask app\n",
    "app = Flask(__name__)\n",
    "app.config['SECRET_KEY'] = 'superdupersecretkeythatnobodywouldeverguess'\n",
    "\n",
    "\n",
    "# this app.route handles the index.html page - most other routes will require a specific file name,\n",
    "# but since index is the \"base\" of your application, it goes without an identifier\n",
    "@app.route(\"/\", methods=('GET', 'POST'))\n",
    "\n",
    "# creating a method below to handle any requests made to the index page\n",
    "def index():\n",
    "    \n",
    "    # checking if the method being used is POST - consult line 21 in index.html to see where\n",
    "    # we specify the method as POST. we can also change this to GET if we so choose\n",
    "    if request.method == 'POST':\n",
    "\n",
    "        # here, we create a basic string to display\n",
    "        name = ‘PUT YOUR NAME HERE!’\n",
    "        \n",
    "        # this now calls @app.route(\"/output/<name>\"), and we assign <name> = name. For simplicity's sake,\n",
    "        # we normally keep the variable names the same, but you can change them to whatever you'd like\n",
    "        return redirect(url_for('output', name = name))\n",
    "    \n",
    "    # this is more of a dummy return since we'll never reach this point, but just in case something\n",
    "    # goes wrong, we want to reroute the user back to the index page\n",
    "    return render_template('index.html')\n",
    "\n",
    "# handles calls to output.html\n",
    "@app.route(\"/output/<name>\")\n",
    "def output(name):\n",
    "    \n",
    "    #creates a new list that holds the information we were passed\n",
    "    return_list = []\n",
    "    return_list.append(name);\n",
    "    \n",
    "    # returns the scraped data as a list to output.html\n",
    "    return render_template('output.html', output_list=return_list, output_string=name)\n",
    "\n",
    "# this snippet of code is another syntactical inclusion - it's not as important to understand everything\n",
    "# that's happening here, but it essentially decides where your flask app is going to run on the local device\n",
    "if __name__ == '__main__':\n",
    "    from werkzeug.serving import run_simple\n",
    "\n",
    "    # the \"8080\" means that the flask app will run on http://localhost:8080/\n",
    "    # you can change this to any other viable port if 8080 is currently in use\n",
    "    # for example, you can change the line below to read \"run_simple('localhost', 9000, app)\", and then\n",
    "    # access the flask app through http://localhost:9000/ - the port is completely changeable and\n",
    "    # does not affect your code at all beyond where you access it from\n",
    "    run_simple('localhost', 8080, app)"
   ]
  }
 ],
 "metadata": {
  "kernelspec": {
   "display_name": "Python 3",
   "language": "python",
   "name": "python3"
  },
  "language_info": {
   "codemirror_mode": {
    "name": "ipython",
    "version": 3
   },
   "file_extension": ".py",
   "mimetype": "text/x-python",
   "name": "python",
   "nbconvert_exporter": "python",
   "pygments_lexer": "ipython3",
   "version": "3.8.8"
  }
 },
 "nbformat": 4,
 "nbformat_minor": 5
}
