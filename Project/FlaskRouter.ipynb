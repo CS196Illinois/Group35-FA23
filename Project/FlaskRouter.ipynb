{
 "cells": [
  {
   "cell_type": "code",
   "execution_count": 9,
   "id": "b0d99dd7",
   "metadata": {},
   "outputs": [],
   "source": [
    "import sqlite3\n",
    "conn = sqlite3.connect('main.db') # insert user/password database file name here\n",
    "cursor = conn.cursor() # create cursor object"
   ]
  },
  {
   "cell_type": "code",
   "execution_count": 24,
   "id": "7bdf429f",
   "metadata": {},
   "outputs": [],
   "source": [
    "# def register(username:str, password:str, fName:str, lName:str) -> str:\n",
    "def registerUser(username, password, fName, lName):\n",
    "    cursor.execute(f\"SELECT * FROM Users WHERE Username=?;\", [username])\n",
    "    if len(cursor.fetchall()) > 0 :\n",
    "        return \"Username already exists.\"\n",
    "    else:\n",
    "        cursor.execute(\"INSERT INTO Users VALUES (?, ?, ?, ?);\", [username, password, fName, lName])\n",
    "        cursor.execute(\"INSERT INTO Scores VALUES (?,?);\", [username, 0])\n",
    "        conn.commit()\n",
    "        return \"Successful\""
   ]
  },
  {
   "cell_type": "code",
   "execution_count": 30,
   "id": "114e0fb1",
   "metadata": {},
   "outputs": [],
   "source": [
    "def loginUser(user, password):\n",
    "    cursor.execute(\"SELECT * FROM Users WHERE Username = ?\",[user]) # searches the database for the entered username\n",
    "    result = cursor.fetchall()\n",
    "    print(result)\n",
    "    if len(result) == 0: # checks if an account with such a username exists\n",
    "        return \"No Username\"\n",
    "    correct_password = result[0][1] # assumes the correct password is kept in column index 1 of the database \n",
    "    if password == correct_password: # compares entered password and possible correct passwords (assuming duplicate usernames are allowed)\n",
    "        return \"Logged In\"\n",
    "    return \"Incorrect Password\""
   ]
  },
  {
   "cell_type": "code",
   "execution_count": 12,
   "id": "87f7117f",
   "metadata": {},
   "outputs": [],
   "source": [
    "def correctness(questionNum, answer): #answer is entered as string or as 2-d array entry\n",
    "    search_num = questionNum\n",
    "    cursor.execute(\"SELECT * FROM Questions WHERE QuestionID = ?\",[search_num])\n",
    "    result = cursor.fetchall()\n",
    "    if answer == result[0][4]:  # checks if entry equals the correct answer\n",
    "        return result[0][3] # replace ? with the column index of the point value assigned to the question\n",
    "    else:\n",
    "        return 0"
   ]
  },
  {
   "cell_type": "code",
   "execution_count": 13,
   "id": "06055a2a",
   "metadata": {},
   "outputs": [],
   "source": [
    "import random\n",
    "def shuffle(question_num):\n",
    "    cursor.execute(\"SELECT * FROM Questions WHERE QuestionID = (?)\",[question_num]) #parses database for question id\n",
    "    result = cursor.fetchall()\n",
    "    question_list = [result[0][4], result[0][5], result[0][6], result[0][7]] #assembles list of question options\n",
    "    random.shuffle(question_list) #shuffles list\n",
    "    return question_list #returns shuffled list"
   ]
  },
  {
   "cell_type": "code",
   "execution_count": 14,
   "id": "ed125c4a",
   "metadata": {},
   "outputs": [],
   "source": [
    "def addPoints(questionId, answer, user): #note, as of 10/31, you can answer the same question multiple times and farm infinite points.\n",
    "    newPoints = correctness(questionId, answer) #finds number of points earned from previous function\n",
    "    cursor.execute(\"SELECT * FROM Scores WHERE Username = (?)\",[user]) #finds number of points from the points table\n",
    "    result = cursor.fetchall()\n",
    "    updated_points = result[0][1] + newPoints #adds old points and newly earned points\n",
    "    cursor.execute(\"UPDATE Scores SET Points = (?) WHERE Username = (?)\", [updated_points, user]) #updates table value for username\n",
    "    conn.commit()"
   ]
  },
  {
   "cell_type": "code",
   "execution_count": 15,
   "id": "c4f626be",
   "metadata": {},
   "outputs": [
    {
     "data": {
      "text/plain": [
       "<sqlite3.Cursor at 0x7f86f00ad2d0>"
      ]
     },
     "execution_count": 15,
     "metadata": {},
     "output_type": "execute_result"
    }
   ],
   "source": [
    "# # creating user table\n",
    "# cursor.execute(\"\"\"CREATE TABLE Users (\n",
    "#                 Username VARCHAR(100) PRIMARY KEY, \n",
    "#                 Password VARCHAR(100), \n",
    "#                 FirstName VARCHAR(100), \n",
    "#                 LastName VARCHAR(100)\n",
    "#                );\"\"\")"
   ]
  },
  {
   "cell_type": "code",
   "execution_count": 16,
   "id": "fc154c6d",
   "metadata": {},
   "outputs": [
    {
     "data": {
      "text/plain": [
       "<sqlite3.Cursor at 0x7f86f00ad2d0>"
      ]
     },
     "execution_count": 16,
     "metadata": {},
     "output_type": "execute_result"
    }
   ],
   "source": [
    "# # creating question table\n",
    "# cursor.execute(\"\"\"CREATE TABLE Questions (\n",
    "#                 QuestionID INTEGER PRIMARY KEY AUTOINCREMENT,\n",
    "#                 Question VARCHAR(100),\n",
    "#                 Company VARCHAR(100),\n",
    "#                 Points INT,\n",
    "#                 CorrectChoice VARCHAR(100),\n",
    "#                 IncorrectOne VARCHAR(100),\n",
    "#                 IncorrectTwo VARCHAR(100),\n",
    "#                 IncorrectThree VARCHAR(100)\n",
    "#                 );\"\"\")\n"
   ]
  },
  {
   "cell_type": "code",
   "execution_count": 17,
   "id": "d95509d1",
   "metadata": {},
   "outputs": [
    {
     "data": {
      "text/plain": [
       "<sqlite3.Cursor at 0x7f86f00ad2d0>"
      ]
     },
     "execution_count": 17,
     "metadata": {},
     "output_type": "execute_result"
    }
   ],
   "source": [
    "# # creating score table\n",
    "# cursor.execute(\"\"\"CREATE TABLE Scores (\n",
    "#                Username VARCHAR(100) PRIMARY KEY,\n",
    "#                Points INT\n",
    "#                 );\"\"\")"
   ]
  },
  {
   "cell_type": "code",
   "execution_count": 39,
   "id": "ce0ed2b4",
   "metadata": {},
   "outputs": [
    {
     "data": {
      "text/plain": [
       "[('dhruvks2', 'password', 'Dhruv', 'Saligram'),\n",
       " ('k', 'test', 'Dhruv', 'K'),\n",
       " ('aykamel2', 'test', 'Aly', 'Kamel'),\n",
       " ('varun', 'test', 'Varun', 'M'),\n",
       " ('arnav', 't', 'Arnav', 'G'),\n",
       " ('kaden', 't', 'Kaden', 'p'),\n",
       " ('rob', 'hand', 'rob', 'hand'),\n",
       " ('testing', 'pass', 'varun', 'm')]"
      ]
     },
     "execution_count": 39,
     "metadata": {},
     "output_type": "execute_result"
    }
   ],
   "source": [
    "cursor.execute(\"SELECT * FROM Users;\")\n",
    "cursor.fetchall()"
   ]
  },
  {
   "cell_type": "code",
   "execution_count": null,
   "id": "b0c08080",
   "metadata": {},
   "outputs": [
    {
     "name": "stderr",
     "output_type": "stream",
     "text": [
      " * Running on http://localhost:8080/ (Press CTRL+C to quit)\n",
      "127.0.0.1 - - [15/Nov/2023 16:42:30] \"\u001b[37mGET / HTTP/1.1\u001b[0m\" 200 -\n",
      "127.0.0.1 - - [15/Nov/2023 16:42:34] \"\u001b[32mPOST /login HTTP/1.1\u001b[0m\" 302 -\n",
      "127.0.0.1 - - [15/Nov/2023 16:42:34] \"\u001b[37mGET /home/arnavg HTTP/1.1\u001b[0m\" 200 -\n"
     ]
    },
    {
     "name": "stdout",
     "output_type": "stream",
     "text": [
      "tried to login\n",
      "[('arnavg', 'test', 'arnav', 'g')]\n"
     ]
    }
   ],
   "source": [
    "from werkzeug.wrappers import Request, Response\n",
    "from flask import Flask, render_template, request, url_for, flash, redirect\n",
    "\n",
    "\n",
    "app = Flask(__name__)\n",
    "app.config['SECRET_KEY'] = 'superdupersecretkeythatnobodywouldeverguess'\n",
    "\n",
    "\n",
    "@app.route(\"/\", methods=('GET', 'POST'))\n",
    "def index():\n",
    "    return render_template('index.html')\n",
    "\n",
    "@app.route(\"/register\", methods=('GET', 'POST'))\n",
    "def register():\n",
    "    print(\"tried to register\")\n",
    "    if request.method == 'POST':\n",
    "        username = str(request.form.get(\"uname\"))\n",
    "        password = str(request.form.get(\"psw\"))\n",
    "        firstname = str(request.form.get(\"fname\"))\n",
    "        lastname = str(request.form.get(\"lname\"))\n",
    "        out = registerUser(username, password, firstname, lastname)\n",
    "        if out == \"Successful\":\n",
    "            return redirect(url_for('index'))\n",
    "        else:\n",
    "            print(\"Register failed\")\n",
    "    \n",
    "@app.route(\"/login\", methods=('GET', 'POST'))\n",
    "def login():\n",
    "    print(\"tried to login\")\n",
    "    if request.method == 'POST':\n",
    "        username = str(request.form.get(\"uname\"))\n",
    "        password = str(request.form.get(\"psw\"))\n",
    "        out = loginUser(username, password)\n",
    "        if out == \"Logged In\":\n",
    "            return redirect(url_for('home', user=username))\n",
    "        else:\n",
    "            print(out)\n",
    "    \n",
    "@app.route(\"/home/<user>\")\n",
    "def home(user):\n",
    "    return render_template('home.html', user=user)\n",
    "\n",
    "@app.route(\"/lessons/<user>\")\n",
    "def lessons(user):\n",
    "    return render_template('lessons.html', user=user)\n",
    "\n",
    "@app.route(\"/index\", methods=('GET', 'POST'))\n",
    "def index2():\n",
    "    return render_template('index.html')\n",
    "\n",
    "@app.route(\"/output/<name>\")\n",
    "def output(name):\n",
    "    \n",
    "    #creates a new list that holds the information we were passed\n",
    "    return_list = []\n",
    "    return_list.append(name);\n",
    "    \n",
    "    # returns the scraped data as a list to output.html\n",
    "    return render_template('output.html', output_list=return_list, output_string=name)\n",
    "\n",
    "# this snippet of code is another syntactical inclusion - it's not as important to understand everything\n",
    "# that's happening here, but it essentially decides where your flask app is going to run on the local device\n",
    "if __name__ == '__main__':\n",
    "    from werkzeug.serving import run_simple\n",
    "\n",
    "    # the \"8080\" means that the flask app will run on http://localhost:8080/\n",
    "    # you can change this to any other viable port if 8080 is currently in use\n",
    "    # for example, you can change the line below to read \"run_simple('localhost', 9000, app)\", and then\n",
    "    # access the flask app through http://localhost:9000/ - the port is completely changeable and\n",
    "    # does not affect your code at all beyond where you access it from\n",
    "    run_simple('localhost', 8080, app)"
   ]
  },
  {
   "cell_type": "code",
   "execution_count": null,
   "id": "7cd8dbdb",
   "metadata": {},
   "outputs": [],
   "source": []
  }
 ],
 "metadata": {
  "kernelspec": {
   "display_name": "Python 3",
   "language": "python",
   "name": "python3"
  },
  "language_info": {
   "codemirror_mode": {
    "name": "ipython",
    "version": 3
   },
   "file_extension": ".py",
   "mimetype": "text/x-python",
   "name": "python",
   "nbconvert_exporter": "python",
   "pygments_lexer": "ipython3",
   "version": "3.8.8"
  }
 },
 "nbformat": 4,
 "nbformat_minor": 5
}
