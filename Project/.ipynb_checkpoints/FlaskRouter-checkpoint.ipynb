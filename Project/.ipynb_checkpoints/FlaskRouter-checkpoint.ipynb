{
 "cells": [
  {
   "cell_type": "code",
   "execution_count": 22,
   "id": "49f309ac",
   "metadata": {},
   "outputs": [],
   "source": [
    "import sqlite3\n",
    "conn = sqlite3.connect('main.db') # insert user/password database file name here\n",
    "cursor = conn.cursor() # create cursor object\n",
    "import json\n",
    "import random"
   ]
  },
  {
   "cell_type": "code",
   "execution_count": 2,
   "id": "afd55929",
   "metadata": {},
   "outputs": [],
   "source": [
    "# def register(username:str, password:str, fName:str, lName:str) -> str:\n",
    "def registerUser(username, password, fName, lName):\n",
    "    cursor.execute(f\"SELECT * FROM Users WHERE Username=?;\", [username])\n",
    "    if len(cursor.fetchall()) > 0 :\n",
    "        return \"Username already exists.\"\n",
    "    else:\n",
    "        cursor.execute(\"INSERT INTO Users VALUES (?, ?, ?, ?);\", [username, password, fName, lName])\n",
    "        cursor.execute(\"INSERT INTO Scores VALUES (?,?);\", [username, 0])\n",
    "        conn.commit()\n",
    "        return \"Successful\""
   ]
  },
  {
   "cell_type": "code",
   "execution_count": 3,
   "id": "5ae7dd81",
   "metadata": {},
   "outputs": [],
   "source": [
    "def loginUser(user, password):\n",
    "    cursor.execute(\"SELECT * FROM Users WHERE Username = ?\",[user]) # searches the database for the entered username\n",
    "    result = cursor.fetchall()\n",
    "    print(result)\n",
    "    if len(result) == 0: # checks if an account with such a username exists\n",
    "        return \"No Username\"\n",
    "    correct_password = result[0][1] # assumes the correct password is kept in column index 1 of the database \n",
    "    if password == correct_password: # compares entered password and possible correct passwords (assuming duplicate usernames are allowed)\n",
    "        return \"Logged In\"\n",
    "    return \"Incorrect Password\""
   ]
  },
  {
   "cell_type": "code",
   "execution_count": 4,
   "id": "fe2cbf21",
   "metadata": {},
   "outputs": [],
   "source": [
    "def correctness(questionNum, answer): #answer is entered as string or as 2-d array entry\n",
    "    search_num = questionNum\n",
    "    cursor.execute(\"SELECT * FROM Questions WHERE QuestionID = ?\",[search_num])\n",
    "    result = cursor.fetchall()\n",
    "    if answer == result[0][4]:  # checks if entry equals the correct answer\n",
    "        return result[0][3] # replace ? with the column index of the point value assigned to the question\n",
    "    else:\n",
    "        return 0"
   ]
  },
  {
   "cell_type": "code",
   "execution_count": 5,
   "id": "f4786e68",
   "metadata": {},
   "outputs": [],
   "source": [
    "import random\n",
    "def shuffle(question_num):\n",
    "    cursor.execute(\"SELECT * FROM Questions WHERE QuestionID = (?)\",[question_num]) #parses database for question id\n",
    "    result = cursor.fetchall()\n",
    "    question_list = [result[0][4], result[0][5], result[0][6], result[0][7]] #assembles list of question options\n",
    "    random.shuffle(question_list) #shuffles list\n",
    "    return question_list #returns shuffled list"
   ]
  },
  {
   "cell_type": "code",
   "execution_count": 6,
   "id": "60cf9919",
   "metadata": {},
   "outputs": [],
   "source": [
    "def addPoints(questionId, answer, user): #note, as of 10/31, you can answer the same question multiple times and farm infinite points.\n",
    "    newPoints = correctness(questionId, answer) #finds number of points earned from previous function\n",
    "    cursor.execute(\"SELECT * FROM Scores WHERE Username = (?)\",[user]) #finds number of points from the points table\n",
    "    result = cursor.fetchall()\n",
    "    updated_points = result[0][1] + newPoints #adds old points and newly earned points\n",
    "    cursor.execute(\"UPDATE Scores SET Points = (?) WHERE Username = (?)\", [updated_points, user]) #updates table value for username\n",
    "    conn.commit()"
   ]
  },
  {
   "cell_type": "code",
   "execution_count": 7,
   "id": "ebf3f37b",
   "metadata": {},
   "outputs": [
    {
     "data": {
      "text/plain": [
       "[('dhruvks2', 'password', 'Dhruv', 'Saligram'),\n",
       " ('k', 'test', 'Dhruv', 'K'),\n",
       " ('aykamel2', 'test', 'Aly', 'Kamel'),\n",
       " ('varun', 'test', 'Varun', 'M'),\n",
       " ('arnav', 't', 'Arnav', 'G'),\n",
       " ('kaden', 't', 'Kaden', 'p'),\n",
       " ('rob', 'hand', 'rob', 'hand'),\n",
       " ('testing', 'pass', 'varun', 'm'),\n",
       " ('arnavg', 'test', 'arnav', 'g')]"
      ]
     },
     "execution_count": 7,
     "metadata": {},
     "output_type": "execute_result"
    }
   ],
   "source": [
    "cursor.execute(\"SELECT * FROM Users;\")\n",
    "cursor.fetchall()"
   ]
  },
  {
   "cell_type": "code",
   "execution_count": 34,
   "id": "2fd2c0aa",
   "metadata": {},
   "outputs": [],
   "source": [
    "def getContent(company):\n",
    "#     cursor.execute(\"SELECT * FROM Content WHERE CompanyName = ?\", [company])\n",
    "#     result = cursor.fetchall()\n",
    "#     return result[0][1]\n",
    "    return \"INFO ABOUT \" + company + \"!\"\n",
    "\n",
    "# getContent(\"Walmart\")"
   ]
  },
  {
   "cell_type": "code",
   "execution_count": 35,
   "id": "cd4d5a60",
   "metadata": {},
   "outputs": [
    {
     "data": {
      "text/plain": [
       "[{'name': 'When did Walmart have its IPO?',\n",
       "  'points': 3,\n",
       "  'correct': 'Oct 1st 1970',\n",
       "  'A': 'Aug 25th 1972',\n",
       "  'B': 'Feb 20th 1980',\n",
       "  'C': 'Oct 1st 1970',\n",
       "  'D': 'Mar 1st 2000'},\n",
       " {'name': 'What percentage of Walmart is floated?',\n",
       "  'points': 3,\n",
       "  'correct': '53%',\n",
       "  'A': '9.3%',\n",
       "  'B': '75%',\n",
       "  'C': '5%',\n",
       "  'D': '53%'},\n",
       " {'name': 'What percentage of Walmart is institutionally owned?',\n",
       "  'points': 2,\n",
       "  'correct': '34%',\n",
       "  'A': '15%',\n",
       "  'B': '34%',\n",
       "  'C': '65%',\n",
       "  'D': '40%'},\n",
       " {'name': 'How many stock splits has Walmart been through?',\n",
       "  'points': 1,\n",
       "  'correct': '9',\n",
       "  'A': '9',\n",
       "  'B': '2',\n",
       "  'C': '4',\n",
       "  'D': '11'},\n",
       " {'name': \"What is Walmart's 52-week high?\",\n",
       "  'points': 3,\n",
       "  'correct': '166.61',\n",
       "  'A': '165.22',\n",
       "  'B': '136.09',\n",
       "  'C': '142.34',\n",
       "  'D': '166.61'},\n",
       " {'name': \"What is Walmart's 52-week low?\",\n",
       "  'points': 3,\n",
       "  'correct': '136.09',\n",
       "  'A': '142.34',\n",
       "  'B': '132.11',\n",
       "  'C': '166.61',\n",
       "  'D': '136.09'},\n",
       " {'name': 'Who is the CEO of Walmart?',\n",
       "  'points': 1,\n",
       "  'correct': 'Doug McMillon',\n",
       "  'A': 'John Book',\n",
       "  'B': 'David Solomon',\n",
       "  'C': 'Doug McMillon',\n",
       "  'D': 'Bill Ackman'},\n",
       " {'name': \"What is Walmart's average trading volume?\",\n",
       "  'points': 4,\n",
       "  'correct': '10.1 mn',\n",
       "  'A': '10.1 mn',\n",
       "  'B': '0.8 bn',\n",
       "  'C': '5 mn',\n",
       "  'D': '2 mn'}]"
      ]
     },
     "execution_count": 35,
     "metadata": {},
     "output_type": "execute_result"
    }
   ],
   "source": [
    "def getQuestions(company):\n",
    "    cursor.execute(\"SELECT * FROM Questions WHERE Company = (?)\", [company])\n",
    "    result = cursor.fetchall()\n",
    "    jsonArray = []\n",
    "    for i in result:\n",
    "        choices = [i[4], i[5], i[6], i[7]]\n",
    "        random.shuffle(choices)\n",
    "        q = {\n",
    "            \"name\": i[1],\n",
    "            \"points\": i[3],\n",
    "            \"correct\": i[4],\n",
    "            \"A\": choices[0],\n",
    "            \"B\": choices[1],\n",
    "            \"C\": choices[2],\n",
    "            \"D\": choices[3]\n",
    "        }\n",
    "#         question = json.dumps(q)\n",
    "        jsonArray.append(q)\n",
    "    return jsonArray\n",
    "    \n",
    "getQuestions(\"Walmart\")\n",
    "    "
   ]
  },
  {
   "cell_type": "code",
   "execution_count": null,
   "id": "2167c8d0",
   "metadata": {},
   "outputs": [
    {
     "name": "stderr",
     "output_type": "stream",
     "text": [
      " * Running on http://localhost:8080/ (Press CTRL+C to quit)\n",
      "127.0.0.1 - - [03/Dec/2023 15:37:23] \"\u001b[37mGET / HTTP/1.1\u001b[0m\" 200 -\n",
      "[2023-12-03 15:37:26,382] ERROR in app: Exception on /login [POST]\n",
      "Traceback (most recent call last):\n",
      "  File \"/opt/anaconda3/lib/python3.8/site-packages/flask/app.py\", line 2447, in wsgi_app\n",
      "    response = self.full_dispatch_request()\n",
      "  File \"/opt/anaconda3/lib/python3.8/site-packages/flask/app.py\", line 1953, in full_dispatch_request\n",
      "    return self.finalize_request(rv)\n",
      "  File \"/opt/anaconda3/lib/python3.8/site-packages/flask/app.py\", line 1968, in finalize_request\n",
      "    response = self.make_response(rv)\n",
      "  File \"/opt/anaconda3/lib/python3.8/site-packages/flask/app.py\", line 2097, in make_response\n",
      "    raise TypeError(\n",
      "TypeError: The view function did not return a valid response. The function either returned None or ended without a return statement.\n",
      "127.0.0.1 - - [03/Dec/2023 15:37:26] \"\u001b[35m\u001b[1mPOST /login HTTP/1.1\u001b[0m\" 500 -\n"
     ]
    },
    {
     "name": "stdout",
     "output_type": "stream",
     "text": [
      "tried to login\n",
      "[]\n",
      "No Username\n"
     ]
    },
    {
     "name": "stderr",
     "output_type": "stream",
     "text": [
      "[2023-12-03 15:37:56,942] ERROR in app: Exception on /login [POST]\n",
      "Traceback (most recent call last):\n",
      "  File \"/opt/anaconda3/lib/python3.8/site-packages/flask/app.py\", line 2447, in wsgi_app\n",
      "    response = self.full_dispatch_request()\n",
      "  File \"/opt/anaconda3/lib/python3.8/site-packages/flask/app.py\", line 1953, in full_dispatch_request\n",
      "    return self.finalize_request(rv)\n",
      "  File \"/opt/anaconda3/lib/python3.8/site-packages/flask/app.py\", line 1968, in finalize_request\n",
      "    response = self.make_response(rv)\n",
      "  File \"/opt/anaconda3/lib/python3.8/site-packages/flask/app.py\", line 2097, in make_response\n",
      "    raise TypeError(\n",
      "TypeError: The view function did not return a valid response. The function either returned None or ended without a return statement.\n",
      "127.0.0.1 - - [03/Dec/2023 15:37:56] \"\u001b[35m\u001b[1mPOST /login HTTP/1.1\u001b[0m\" 500 -\n"
     ]
    },
    {
     "name": "stdout",
     "output_type": "stream",
     "text": [
      "tried to login\n",
      "[]\n",
      "No Username\n"
     ]
    }
   ],
   "source": [
    "from werkzeug.wrappers import Request, Response\n",
    "from flask import Flask, render_template, request, url_for, flash, redirect\n",
    "\n",
    "\n",
    "app = Flask(__name__)\n",
    "app.config['SECRET_KEY'] = 'superdupersecretkeythatnobodywouldeverguess'\n",
    "\n",
    "\n",
    "@app.route(\"/\", methods=('GET', 'POST'))\n",
    "def index():\n",
    "    return render_template('index.html')\n",
    "\n",
    "@app.route(\"/register\", methods=('GET', 'POST'))\n",
    "def register():\n",
    "    print(\"tried to register\")\n",
    "    if request.method == 'POST':\n",
    "        username = str(request.form.get(\"uname\"))\n",
    "        password = str(request.form.get(\"psw\"))\n",
    "        firstname = str(request.form.get(\"fname\"))\n",
    "        lastname = str(request.form.get(\"lname\"))\n",
    "        out = registerUser(username, password, firstname, lastname)\n",
    "        if out == \"Successful\":\n",
    "            return redirect(url_for('index'))\n",
    "        else:\n",
    "            print(\"Register failed\")\n",
    "    \n",
    "@app.route(\"/login\", methods=('GET', 'POST'))\n",
    "def login():\n",
    "    print(\"tried to login\")\n",
    "    if request.method == 'POST':\n",
    "        username = str(request.form.get(\"uname\"))\n",
    "        password = str(request.form.get(\"psw\"))\n",
    "        out = loginUser(username, password)\n",
    "        if out == \"Logged In\":\n",
    "            return redirect(url_for('home'))\n",
    "        else:\n",
    "            print(out)\n",
    "    \n",
    "@app.route(\"/home\")\n",
    "def home():\n",
    "    return render_template('home.html')\n",
    "\n",
    "@app.route(\"/index\", methods=('GET', 'POST'))\n",
    "def index2():\n",
    "    return render_template('index.html')\n",
    "\n",
    "@app.route(\"/lessons\", methods=[\"POST\", \"GET\"])\n",
    "def lessons():\n",
    "    if request.method == \"POST\":\n",
    "        # Handle form submission if needed\n",
    "        pass\n",
    "    return render_template('lessons.html')\n",
    "\n",
    "@app.route(\"/practice\", methods=[\"POST\", \"GET\"])\n",
    "def practice():\n",
    "    if request.method == \"POST\":\n",
    "        # Handle form submission if needed\n",
    "        pass\n",
    "    return render_template(\"practice.html\")\n",
    "\n",
    "@app.route(\"/lessonsfn\", methods=[\"POST\", \"GET\"])\n",
    "def lessonsfn():\n",
    "    if request.method == \"POST\":\n",
    "        x = str(request.form.get(\"lesson_type\"))\n",
    "        print(x + \"lessons\")\n",
    "        content = getContent(x)\n",
    "        return render_template(\"lessoncontent.html\", content=content)\n",
    "\n",
    "@app.route(\"/practicefn\", methods=[\"POST\", \"GET\"])\n",
    "def practicefn():\n",
    "    if request.method == \"POST\":\n",
    "        x = str(request.form.get(\"lesson_type\"))\n",
    "        print(x + \"practice\")\n",
    "        questions = getQuestions(x)\n",
    "        return render_template(\"quiz.html\", questions=questions)\n",
    "\n",
    "@app.route(\"/output/<name>\")\n",
    "def output(name):\n",
    "    \n",
    "    #creates a new list that holds the information we were passed\n",
    "    return_list = []\n",
    "    return_list.append(name);\n",
    "    \n",
    "    # returns the scraped data as a list to output.html\n",
    "    return render_template('output.html', output_list=return_list, output_string=name)\n",
    "\n",
    "# this snippet of code is another syntactical inclusion - it's not as important to understand everything\n",
    "# that's happening here, but it essentially decides where your flask app is going to run on the local device\n",
    "if __name__ == '__main__':\n",
    "    from werkzeug.serving import run_simple\n",
    "\n",
    "    # the \"8080\" means that the flask app will run on http://localhost:8080/\n",
    "    # you can change this to any other viable port if 8080 is currently in use\n",
    "    # for example, you can change the line below to read \"run_simple('localhost', 9000, app)\", and then\n",
    "    # access the flask app through http://localhost:9000/ - the port is completely changeable and\n",
    "    # does not affect your code at all beyond where you access it from\n",
    "    run_simple('localhost', 8080, app)"
   ]
  },
  {
   "cell_type": "code",
   "execution_count": null,
   "id": "8ca523a2",
   "metadata": {},
   "outputs": [],
   "source": []
  }
 ],
 "metadata": {
  "kernelspec": {
   "display_name": "Python 3",
   "language": "python",
   "name": "python3"
  },
  "language_info": {
   "codemirror_mode": {
    "name": "ipython",
    "version": 3
   },
   "file_extension": ".py",
   "mimetype": "text/x-python",
   "name": "python",
   "nbconvert_exporter": "python",
   "pygments_lexer": "ipython3",
   "version": "3.8.8"
  }
 },
 "nbformat": 4,
 "nbformat_minor": 5
}
