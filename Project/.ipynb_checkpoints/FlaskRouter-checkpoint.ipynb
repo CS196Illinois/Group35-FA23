{
 "cells": [
  {
   "cell_type": "code",
   "execution_count": 1,
   "id": "85553f8d",
   "metadata": {},
   "outputs": [],
   "source": [
    "import sqlite3\n",
    "conn = sqlite3.connect('main.db') # insert user/password database file name here\n",
    "cursor = conn.cursor() # create cursor object"
   ]
  },
  {
   "cell_type": "code",
   "execution_count": 2,
   "id": "fd599596",
   "metadata": {},
   "outputs": [],
   "source": [
    "# def register(username:str, password:str, fName:str, lName:str) -> str:\n",
    "def registerUser(username, password, fName, lName):\n",
    "    cursor.execute(f\"SELECT * FROM Users WHERE Username=?;\", [username])\n",
    "    if len(cursor.fetchall()) > 0 :\n",
    "        return \"Username already exists.\"\n",
    "    else:\n",
    "        cursor.execute(\"INSERT INTO Users VALUES (?, ?, ?, ?);\", [username, password, fName, lName])\n",
    "        cursor.execute(\"INSERT INTO Scores VALUES (?,?);\", [username, 0])\n",
    "        conn.commit()\n",
    "        return \"Successful\""
   ]
  },
  {
   "cell_type": "code",
   "execution_count": 3,
   "id": "eb2592ef",
   "metadata": {},
   "outputs": [],
   "source": [
    "def loginUser(user, password):\n",
    "    cursor.execute(\"SELECT * FROM Users WHERE Username = ?\",[user]) # searches the database for the entered username\n",
    "    result = cursor.fetchall()\n",
    "    print(result)\n",
    "    if len(result) == 0: # checks if an account with such a username exists\n",
    "        return \"No Username\"\n",
    "    correct_password = result[0][1] # assumes the correct password is kept in column index 1 of the database \n",
    "    if password == correct_password: # compares entered password and possible correct passwords (assuming duplicate usernames are allowed)\n",
    "        return \"Logged In\"\n",
    "    return \"Incorrect Password\""
   ]
  },
  {
   "cell_type": "code",
   "execution_count": 4,
   "id": "2669f21e",
   "metadata": {},
   "outputs": [],
   "source": [
    "def correctness(questionNum, answer): #answer is entered as string or as 2-d array entry\n",
    "    search_num = questionNum\n",
    "    cursor.execute(\"SELECT * FROM Questions WHERE QuestionID = ?\",[search_num])\n",
    "    result = cursor.fetchall()\n",
    "    if answer == result[0][4]:  # checks if entry equals the correct answer\n",
    "        return result[0][3] # replace ? with the column index of the point value assigned to the question\n",
    "    else:\n",
    "        return 0"
   ]
  },
  {
   "cell_type": "code",
   "execution_count": 5,
   "id": "16e4ee7e",
   "metadata": {},
   "outputs": [],
   "source": [
    "import random\n",
    "def shuffle(question_num):\n",
    "    cursor.execute(\"SELECT * FROM Questions WHERE QuestionID = (?)\",[question_num]) #parses database for question id\n",
    "    result = cursor.fetchall()\n",
    "    question_list = [result[0][4], result[0][5], result[0][6], result[0][7]] #assembles list of question options\n",
    "    random.shuffle(question_list) #shuffles list\n",
    "    return question_list #returns shuffled list"
   ]
  },
  {
   "cell_type": "code",
   "execution_count": 6,
   "id": "a7d4a2f9",
   "metadata": {},
   "outputs": [],
   "source": [
    "def addPoints(questionId, answer, user): #note, as of 10/31, you can answer the same question multiple times and farm infinite points.\n",
    "    newPoints = correctness(questionId, answer) #finds number of points earned from previous function\n",
    "    cursor.execute(\"SELECT * FROM Scores WHERE Username = (?)\",[user]) #finds number of points from the points table\n",
    "    result = cursor.fetchall()\n",
    "    updated_points = result[0][1] + newPoints #adds old points and newly earned points\n",
    "    cursor.execute(\"UPDATE Scores SET Points = (?) WHERE Username = (?)\", [updated_points, user]) #updates table value for username\n",
    "    conn.commit()"
   ]
  },
  {
   "cell_type": "code",
   "execution_count": 7,
   "id": "5ac57c95",
   "metadata": {},
   "outputs": [
    {
     "data": {
      "text/plain": [
       "[('dhruvks2', 'password', 'Dhruv', 'Saligram'),\n",
       " ('k', 'test', 'Dhruv', 'K'),\n",
       " ('aykamel2', 'test', 'Aly', 'Kamel'),\n",
       " ('varun', 'test', 'Varun', 'M'),\n",
       " ('arnav', 't', 'Arnav', 'G'),\n",
       " ('kaden', 't', 'Kaden', 'p'),\n",
       " ('rob', 'hand', 'rob', 'hand'),\n",
       " ('testing', 'pass', 'varun', 'm'),\n",
       " ('arnavg', 'test', 'arnav', 'g')]"
      ]
     },
     "execution_count": 7,
     "metadata": {},
     "output_type": "execute_result"
    }
   ],
   "source": [
    "cursor.execute(\"SELECT * FROM Users;\")\n",
    "cursor.fetchall()"
   ]
  },
  {
   "cell_type": "code",
   "execution_count": null,
   "id": "52944883",
   "metadata": {},
   "outputs": [
    {
     "name": "stderr",
     "output_type": "stream",
     "text": [
      " * Running on http://localhost:8080/ (Press CTRL+C to quit)\n",
      "127.0.0.1 - - [03/Dec/2023 14:38:26] \"\u001b[37mGET / HTTP/1.1\u001b[0m\" 200 -\n",
      "127.0.0.1 - - [03/Dec/2023 14:38:27] \"\u001b[32mPOST /login HTTP/1.1\u001b[0m\" 302 -\n",
      "127.0.0.1 - - [03/Dec/2023 14:38:27] \"\u001b[37mGET /home/arnavg HTTP/1.1\u001b[0m\" 200 -\n"
     ]
    },
    {
     "name": "stdout",
     "output_type": "stream",
     "text": [
      "tried to login\n",
      "[('arnavg', 'test', 'arnav', 'g')]\n"
     ]
    },
    {
     "name": "stderr",
     "output_type": "stream",
     "text": [
      "[2023-12-03 14:38:30,711] ERROR in app: Exception on /lessons [GET]\n",
      "Traceback (most recent call last):\n",
      "  File \"/opt/anaconda3/lib/python3.8/site-packages/flask/app.py\", line 2447, in wsgi_app\n",
      "    response = self.full_dispatch_request()\n",
      "  File \"/opt/anaconda3/lib/python3.8/site-packages/flask/app.py\", line 1952, in full_dispatch_request\n",
      "    rv = self.handle_user_exception(e)\n",
      "  File \"/opt/anaconda3/lib/python3.8/site-packages/flask/app.py\", line 1821, in handle_user_exception\n",
      "    reraise(exc_type, exc_value, tb)\n",
      "  File \"/opt/anaconda3/lib/python3.8/site-packages/flask/_compat.py\", line 39, in reraise\n",
      "    raise value\n",
      "  File \"/opt/anaconda3/lib/python3.8/site-packages/flask/app.py\", line 1950, in full_dispatch_request\n",
      "    rv = self.dispatch_request()\n",
      "  File \"/opt/anaconda3/lib/python3.8/site-packages/flask/app.py\", line 1936, in dispatch_request\n",
      "    return self.view_functions[rule.endpoint](**req.view_args)\n",
      "  File \"<ipython-input-13-6421912e00d2>\", line 53, in lessons\n",
      "    return render_template('lessons.html')\n",
      "  File \"/opt/anaconda3/lib/python3.8/site-packages/flask/templating.py\", line 137, in render_template\n",
      "    return _render(\n",
      "  File \"/opt/anaconda3/lib/python3.8/site-packages/flask/templating.py\", line 120, in _render\n",
      "    rv = template.render(context)\n",
      "  File \"/opt/anaconda3/lib/python3.8/site-packages/jinja2/environment.py\", line 1090, in render\n",
      "    self.environment.handle_exception()\n",
      "  File \"/opt/anaconda3/lib/python3.8/site-packages/jinja2/environment.py\", line 832, in handle_exception\n",
      "    reraise(*rewrite_traceback_stack(source=source))\n",
      "  File \"/opt/anaconda3/lib/python3.8/site-packages/jinja2/_compat.py\", line 28, in reraise\n",
      "    raise value.with_traceback(tb)\n",
      "  File \"/Users/dkVenom/Desktop/cs196/Group35-FA23/Project/templates/lessons.html\", line 13, in top-level template code\n",
      "    <li><a href=\"{{ url_for('home') }}\">Home</a></li>\n",
      "  File \"/opt/anaconda3/lib/python3.8/site-packages/flask/helpers.py\", line 370, in url_for\n",
      "    return appctx.app.handle_url_build_error(error, endpoint, values)\n",
      "  File \"/opt/anaconda3/lib/python3.8/site-packages/flask/app.py\", line 2216, in handle_url_build_error\n",
      "    reraise(exc_type, exc_value, tb)\n",
      "  File \"/opt/anaconda3/lib/python3.8/site-packages/flask/_compat.py\", line 39, in reraise\n",
      "    raise value\n",
      "  File \"/opt/anaconda3/lib/python3.8/site-packages/flask/helpers.py\", line 357, in url_for\n",
      "    rv = url_adapter.build(\n",
      "  File \"/opt/anaconda3/lib/python3.8/site-packages/werkzeug/routing.py\", line 2179, in build\n",
      "    raise BuildError(endpoint, values, method, self)\n",
      "werkzeug.routing.BuildError: Could not build url for endpoint 'home'. Did you forget to specify values ['user']?\n",
      "127.0.0.1 - - [03/Dec/2023 14:38:30] \"\u001b[35m\u001b[1mGET /lessons HTTP/1.1\u001b[0m\" 500 -\n"
     ]
    },
    {
     "name": "stdout",
     "output_type": "stream",
     "text": [
      "REACHED LESSONS\n"
     ]
    }
   ],
   "source": [
    "from werkzeug.wrappers import Request, Response\n",
    "from flask import Flask, render_template, request, url_for, flash, redirect\n",
    "\n",
    "\n",
    "app = Flask(__name__)\n",
    "app.config['SECRET_KEY'] = 'superdupersecretkeythatnobodywouldeverguess'\n",
    "\n",
    "\n",
    "@app.route(\"/\", methods=('GET', 'POST'))\n",
    "def index():\n",
    "    return render_template('index.html')\n",
    "\n",
    "@app.route(\"/register\", methods=('GET', 'POST'))\n",
    "def register():\n",
    "    print(\"tried to register\")\n",
    "    if request.method == 'POST':\n",
    "        username = str(request.form.get(\"uname\"))\n",
    "        password = str(request.form.get(\"psw\"))\n",
    "        firstname = str(request.form.get(\"fname\"))\n",
    "        lastname = str(request.form.get(\"lname\"))\n",
    "        out = registerUser(username, password, firstname, lastname)\n",
    "        if out == \"Successful\":\n",
    "            return redirect(url_for('index'))\n",
    "        else:\n",
    "            print(\"Register failed\")\n",
    "    \n",
    "@app.route(\"/login\", methods=('GET', 'POST'))\n",
    "def login():\n",
    "    print(\"tried to login\")\n",
    "    if request.method == 'POST':\n",
    "        username = str(request.form.get(\"uname\"))\n",
    "        password = str(request.form.get(\"psw\"))\n",
    "        out = loginUser(username, password)\n",
    "        if out == \"Logged In\":\n",
    "            return redirect(url_for('home', user=username))\n",
    "        else:\n",
    "            print(out)\n",
    "    \n",
    "@app.route(\"/home\")\n",
    "def home():\n",
    "    return render_template('home.html')\n",
    "\n",
    "@app.route(\"/index\", methods=('GET', 'POST'))\n",
    "def index2():\n",
    "    return render_template('index.html')\n",
    "\n",
    "@app.route(\"/lessons\", methods=[\"POST\", \"GET\"])\n",
    "def lessons():\n",
    "    print(\"REACHED LESSONS\")\n",
    "    if request.method == \"POST\":\n",
    "        # Handle form submission if needed\n",
    "        pass\n",
    "    return render_template('lessons.html')\n",
    "\n",
    "@app.route(\"/practice\", methods=[\"POST\", \"GET\"])\n",
    "def practice():\n",
    "    if request.method == \"POST\":\n",
    "        # Handle form submission if needed\n",
    "        pass\n",
    "    return render_template(\"practice.html\")\n",
    "\n",
    "@app.route(\"/lessonsfn\", methods=[\"POST\", \"GET\"])\n",
    "def lessonsfn():\n",
    "    if request.method == \"POST\":\n",
    "        x = str(request.form.get(\"lesson_type\"))\n",
    "        print(x + \"lessons\")\n",
    "    return render_template(\"lessons.html\")\n",
    "\n",
    "@app.route(\"/practicefn\", methods=[\"POST\", \"GET\"])\n",
    "def practicefn():\n",
    "    if request.method == \"POST\":\n",
    "        x = str(request.form.get(\"lesson_type\"))\n",
    "        print(x + \"practice\")\n",
    "    return render_template(\"practice.html\")\n",
    "\n",
    "@app.route(\"/output/<name>\")\n",
    "def output(name):\n",
    "    \n",
    "    #creates a new list that holds the information we were passed\n",
    "    return_list = []\n",
    "    return_list.append(name);\n",
    "    \n",
    "    # returns the scraped data as a list to output.html\n",
    "    return render_template('output.html', output_list=return_list, output_string=name)\n",
    "\n",
    "# this snippet of code is another syntactical inclusion - it's not as important to understand everything\n",
    "# that's happening here, but it essentially decides where your flask app is going to run on the local device\n",
    "if __name__ == '__main__':\n",
    "    from werkzeug.serving import run_simple\n",
    "\n",
    "    # the \"8080\" means that the flask app will run on http://localhost:8080/\n",
    "    # you can change this to any other viable port if 8080 is currently in use\n",
    "    # for example, you can change the line below to read \"run_simple('localhost', 9000, app)\", and then\n",
    "    # access the flask app through http://localhost:9000/ - the port is completely changeable and\n",
    "    # does not affect your code at all beyond where you access it from\n",
    "    run_simple('localhost', 8080, app)"
   ]
  },
  {
   "cell_type": "code",
   "execution_count": null,
   "id": "a50ab3b0",
   "metadata": {},
   "outputs": [],
   "source": []
  }
 ],
 "metadata": {
  "kernelspec": {
   "display_name": "Python 3",
   "language": "python",
   "name": "python3"
  },
  "language_info": {
   "codemirror_mode": {
    "name": "ipython",
    "version": 3
   },
   "file_extension": ".py",
   "mimetype": "text/x-python",
   "name": "python",
   "nbconvert_exporter": "python",
   "pygments_lexer": "ipython3",
   "version": "3.8.8"
  }
 },
 "nbformat": 4,
 "nbformat_minor": 5
}
