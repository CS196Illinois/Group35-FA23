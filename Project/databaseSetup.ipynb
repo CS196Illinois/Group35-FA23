{
 "cells": [
  {
   "cell_type": "code",
   "execution_count": 2,
   "id": "491d2d36",
   "metadata": {},
   "outputs": [],
   "source": [
    "import sqlite3 as sql\n",
    "conn = sql.connect(\"main.db\")\n",
    "cursor = conn.cursor()\n"
   ]
  },
  {
   "cell_type": "code",
   "execution_count": 8,
   "id": "18de74b0",
   "metadata": {},
   "outputs": [
    {
     "data": {
      "text/plain": [
       "[]"
      ]
     },
     "execution_count": 8,
     "metadata": {},
     "output_type": "execute_result"
    }
   ],
   "source": [
    "cursor.fetchall()"
   ]
  },
  {
   "cell_type": "code",
   "execution_count": 21,
   "id": "b5b01436",
   "metadata": {
    "scrolled": true
   },
   "outputs": [
    {
     "data": {
      "text/plain": [
       "<sqlite3.Cursor at 0x7fa7bc8672d0>"
      ]
     },
     "execution_count": 21,
     "metadata": {},
     "output_type": "execute_result"
    }
   ],
   "source": [
    "# creating user table\n",
    "cursor.execute(\"\"\"CREATE TABLE Users (\n",
    "                Username VARCHAR(100) PRIMARY KEY, \n",
    "                Password VARCHAR(100), \n",
    "                FirstName VARCHAR(100), \n",
    "                LastName VARCHAR(100)\n",
    "               );\"\"\")"
   ]
  },
  {
   "cell_type": "code",
   "execution_count": 25,
   "id": "819409ad",
   "metadata": {},
   "outputs": [
    {
     "data": {
      "text/plain": [
       "<sqlite3.Cursor at 0x7fa7bc8672d0>"
      ]
     },
     "execution_count": 25,
     "metadata": {},
     "output_type": "execute_result"
    }
   ],
   "source": [
    "# creating question table\n",
    "cursor.execute(\"\"\"CREATE TABLE Questions (\n",
    "                QuestionID INTEGER PRIMARY KEY AUTOINCREMENT,\n",
    "                Question VARCHAR(100),\n",
    "                Company VARCHAR(100),\n",
    "                Points INT,\n",
    "                CorrectChoice VARCHAR(100),\n",
    "                IncorrectOne VARCHAR(100),\n",
    "                IncorrectTwo VARCHAR(100),\n",
    "                IncorrectThree VARCHAR(100)\n",
    "                );\"\"\")"
   ]
  },
  {
   "cell_type": "code",
   "execution_count": 70,
   "id": "051f0dac",
   "metadata": {},
   "outputs": [],
   "source": [
    "cursor.execute(\"\"\"INSERT INTO Questions \n",
    "                (Question, Company, Points, CorrectChoice, IncorrectOne, IncorrectTwo, IncorrectThree) \n",
    "                VALUES \n",
    "               ('What is Google''s average trading volume?', 'Google', '4', '20.9mn', '15.28mn', '32.4mn', '45.93mn')\"\"\")\n",
    "conn.commit()"
   ]
  },
  {
   "cell_type": "code",
   "execution_count": 71,
   "id": "380c7a3d",
   "metadata": {},
   "outputs": [
    {
     "data": {
      "text/plain": [
       "8"
      ]
     },
     "execution_count": 71,
     "metadata": {},
     "output_type": "execute_result"
    }
   ],
   "source": [
    "cursor.execute(\"SELECT * FROM Questions WHERE Company='Google'\")\n",
    "\n",
    "len(cursor.fetchall())"
   ]
  },
  {
   "cell_type": "code",
   "execution_count": 26,
   "id": "9953ee77",
   "metadata": {
    "scrolled": true
   },
   "outputs": [
    {
     "ename": "OperationalError",
     "evalue": "table Scores already exists",
     "output_type": "error",
     "traceback": [
      "\u001b[0;31m---------------------------------------------------------------------------\u001b[0m",
      "\u001b[0;31mOperationalError\u001b[0m                          Traceback (most recent call last)",
      "\u001b[0;32m/var/folders/h7/86r91_k91gv_mk1xv4d_pgnw0000gn/T/ipykernel_5638/1883501066.py\u001b[0m in \u001b[0;36m<module>\u001b[0;34m\u001b[0m\n\u001b[1;32m      3\u001b[0m                \u001b[0mUsername\u001b[0m \u001b[0mVARCHAR\u001b[0m\u001b[0;34m(\u001b[0m\u001b[0;36m100\u001b[0m\u001b[0;34m)\u001b[0m \u001b[0mPRIMARY\u001b[0m \u001b[0mKEY\u001b[0m\u001b[0;34m,\u001b[0m\u001b[0;34m\u001b[0m\u001b[0m\n\u001b[1;32m      4\u001b[0m                \u001b[0mPoints\u001b[0m \u001b[0mINT\u001b[0m\u001b[0;34m\u001b[0m\u001b[0m\n\u001b[0;32m----> 5\u001b[0;31m                 );\"\"\")\n\u001b[0m",
      "\u001b[0;31mOperationalError\u001b[0m: table Scores already exists"
     ]
    }
   ],
   "source": [
    "# creating score table\n",
    "cursor.execute(\"\"\"CREATE TABLE Scores (\n",
    "               Username VARCHAR(100) PRIMARY KEY,\n",
    "               Points INT\n",
    "                );\"\"\")"
   ]
  },
  {
   "cell_type": "code",
   "execution_count": 27,
   "id": "bf9a5a5d",
   "metadata": {},
   "outputs": [],
   "source": [
    "def register(username:str, password:str, fName:str, lName:str) -> str:\n",
    "    cursor.execute(f\"SELECT * FROM Users WHERE Username=?;\", [username])\n",
    "    if len(cursor.fetchall()) > 0 :\n",
    "        return \"Username already exists.\"\n",
    "    else:\n",
    "        cursor.execute(\"INSERT INTO Users VALUES (?, ?, ?, ?);\", [username, password, fName, lName])\n",
    "        cursor.execute(\"INSERT INTO Scores VALUES (?,?);\", [username, 0])\n",
    "        conn.commit()\n",
    "        return \"Successful\"\n"
   ]
  },
  {
   "cell_type": "code",
   "execution_count": 29,
   "id": "bab6787c",
   "metadata": {},
   "outputs": [
    {
     "data": {
      "text/plain": [
       "<sqlite3.Cursor at 0x7fccfe015f80>"
      ]
     },
     "execution_count": 29,
     "metadata": {},
     "output_type": "execute_result"
    }
   ],
   "source": [
    "# Adding content\n",
    "cursor.execute(\"\"\"INSERT INTO Content VALUES ('Google', \n",
    "'''Google, the technology giant that revolutionized the internet, marked a historic milestone with its Initial Public Offering (IPO) on August 19th, 2004. Founded by Larry Page and Sergey Brin, Google has become synonymous with online search and innovation, shaping the digital landscape in profound ways. With 47.24% of its stock floated, Google''s ownership structure reflects a balance between public and institutional investors, with 62.41% of shares held by major financial entities. The company has strategically undergone two stock splits, a financial maneuver aimed at enhancing liquidity and accessibility for a broader investor base.\n",
    "\n",
    "Google''s stock performance reflects the dynamic nature of the tech industry, with a 52-week high of $142.38 and a low of $85.57. These fluctuations capture the ebb and flow of the digital marketplace where Google continues to play a leading role. Guiding the company through its evolution is Sundar Pichai, who assumed the role of CEO in 2015, bringing a keen focus on artificial intelligence and cloud computing to Google''s expansive portfolio.\n",
    "\n",
    "Google''s average trading volume of 20.9 million shares per day highlights the consistent and robust interest in the company''s stock. Beyond its roots as a search engine, Google has diversified its offerings, including products like Android, YouTube, and a suite of cloud services. As the tech landscape continues to evolve, Google, under Pichai''s leadership, remains at the forefront of innovation, influencing how people access information and connect in the digital age.''');\"\"\")"
   ]
  },
  {
   "cell_type": "code",
   "execution_count": null,
   "id": "919e02b2",
   "metadata": {},
   "outputs": [],
   "source": []
  }
 ],
 "metadata": {
  "kernelspec": {
   "display_name": "Python 3 (ipykernel)",
   "language": "python",
   "name": "python3"
  },
  "language_info": {
   "codemirror_mode": {
    "name": "ipython",
    "version": 3
   },
   "file_extension": ".py",
   "mimetype": "text/x-python",
   "name": "python",
   "nbconvert_exporter": "python",
   "pygments_lexer": "ipython3",
   "version": "3.7.0"
  }
 },
 "nbformat": 4,
 "nbformat_minor": 5
}
