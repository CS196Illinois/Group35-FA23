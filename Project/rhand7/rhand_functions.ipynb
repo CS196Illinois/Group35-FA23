{
 "cells": [
  {
   "cell_type": "code",
   "execution_count": 3,
   "id": "41d23ba1-e12f-4cb0-8e5f-72a5ab28a011",
   "metadata": {
    "scrolled": true
   },
   "outputs": [
    {
     "ename": "AttributeError",
     "evalue": "'builtin_function_or_method' object has no attribute 'close'",
     "output_type": "error",
     "traceback": [
      "\u001b[0;31m---------------------------------------------------------------------------\u001b[0m",
      "\u001b[0;31mAttributeError\u001b[0m                            Traceback (most recent call last)",
      "Cell \u001b[0;32mIn[3], line 17\u001b[0m\n\u001b[1;32m     14\u001b[0m             \u001b[38;5;28;01mreturn\u001b[39;00m \u001b[38;5;124m\"\u001b[39m\u001b[38;5;124mLogged In\u001b[39m\u001b[38;5;124m\"\u001b[39m\n\u001b[1;32m     15\u001b[0m     \u001b[38;5;28;01mreturn\u001b[39;00m \u001b[38;5;124m\"\u001b[39m\u001b[38;5;124mIncorrect Password\u001b[39m\u001b[38;5;124m\"\u001b[39m\n\u001b[0;32m---> 17\u001b[0m \u001b[43mcursor\u001b[49m\u001b[38;5;241;43m.\u001b[39;49m\u001b[43mclose\u001b[49m()\n\u001b[1;32m     18\u001b[0m conn\u001b[38;5;241m.\u001b[39mclose()\n",
      "\u001b[0;31mAttributeError\u001b[0m: 'builtin_function_or_method' object has no attribute 'close'"
     ]
    }
   ],
   "source": [
    "import sqlite3\n",
    "conn = sqlite3.connect('main.db') # insert user/password database file name here\n",
    "cursor = conn.cursor # create cursor object"
   ]
  },
  {
   "cell_type": "code",
   "execution_count": null,
   "id": "ddd69258-23da-47b2-a1c2-c5409312aaed",
   "metadata": {},
   "outputs": [],
   "source": [
    "def login(user, password):\n",
    "    search_user = 'user'\n",
    "    cursor.execute(\"SELECT * FROM Users WHERE Username = (?)\",[search_user]) # searches the database for the entered username\n",
    "    result = cursor.fetchall() \n",
    "    if result == null: # checks if an account with such a username exists\n",
    "        return \"No Username\"\n",
    "    for row in result:\n",
    "        correct_password = result[1] # assumes the correct password is kept in column index 1 of the database \n",
    "        if password == correct_password: # compares entered password and possible correct passwords (assuming duplicate usernames are allowed)\n",
    "            return \"Logged In\"\n",
    "    return \"Incorrect Password\"\n",
    "\n",
    "cursor.close()\n",
    "conn.close()"
   ]
  },
  {
   "cell_type": "code",
   "execution_count": 5,
   "id": "4b94fa23-6ec7-4cd0-9258-ebac10f668d0",
   "metadata": {},
   "outputs": [
    {
     "ename": "SyntaxError",
     "evalue": "invalid syntax (2165745484.py, line 10)",
     "output_type": "error",
     "traceback": [
      "\u001b[0;36m  Cell \u001b[0;32mIn[5], line 10\u001b[0;36m\u001b[0m\n\u001b[0;31m    return result[?] # replace ? with the column index of the point value assigned to the question\u001b[0m\n\u001b[0m                  ^\u001b[0m\n\u001b[0;31mSyntaxError\u001b[0m\u001b[0;31m:\u001b[0m invalid syntax\n"
     ]
    }
   ],
   "source": [
    "def correctness(questionNum, answer): \n",
    "    search_num = questionNum\n",
    "    cursor.execute(\"SELECT * FROM Questions WHERE Question = (?)\",[search_num])\n",
    "    result = cursor.fetchall()\n",
    "    if answer == result[4]:  # checks if entry equals the correct answer\n",
    "        return result[2] # replace ? with the column index of the point value assigned to the question\n",
    "    else\n",
    "        return 0\n",
    "\n",
    "cursor.close()\n",
    "conn.close()"
   ]
  },
  {
   "cell_type": "code",
   "execution_count": null,
   "id": "ffb23a84-5561-47e0-a404-3a49ca5b52fc",
   "metadata": {},
   "outputs": [],
   "source": [
    "import random\n",
    "def shuffle(question_num):\n",
    "    cursor.execute(\"SELECT * FROM Questions WHERE Question = (?)\",[question_num]) #parses database for question id\n",
    "    result = cursor.fetchall()\n",
    "    question_list = [result[3], result[4], result[5], result[6]] #assembles list of question options\n",
    "    random.shuffle(question_list) #shuffles list\n",
    "    return question_list #returns shuffled list"
   ]
  },
  {
   "cell_type": "code",
   "execution_count": null,
   "id": "5a89bce5-8306-4714-8610-7e0d89ab3b01",
   "metadata": {},
   "outputs": [],
   "source": [
    "def addPoints(questionId, answer, user):\n",
    "    newPoints = correctness(questionId, answer) #finds number of points earned from previous function\n",
    "    cursor.execute(\"SELECT * FROM Scores WHERE Username = (?)\",[user]) #finds number of points from the points table\n",
    "    result = cursor.fetchall()\n",
    "    updated_points = result[1] + newPoints #adds old points and newly earned points\n",
    "    cursor.execute(\"UPDATE Scores SET Points = (?) WHERE Username = (?)\", [updated_points, user]) #updates table value for username\n",
    "    conn.commit()"
   ]
  }
 ],
 "metadata": {
  "kernelspec": {
   "display_name": "Python 3 (ipykernel)",
   "language": "python",
   "name": "python3"
  },
  "language_info": {
   "codemirror_mode": {
    "name": "ipython",
    "version": 3
   },
   "file_extension": ".py",
   "mimetype": "text/x-python",
   "name": "python",
   "nbconvert_exporter": "python",
   "pygments_lexer": "ipython3",
   "version": "3.9.6"
  }
 },
 "nbformat": 4,
 "nbformat_minor": 5
}
