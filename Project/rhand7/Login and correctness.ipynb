{
 "cells": [
  {
   "cell_type": "code",
   "execution_count": 3,
   "id": "41d23ba1-e12f-4cb0-8e5f-72a5ab28a011",
   "metadata": {},
   "outputs": [
    {
     "ename": "AttributeError",
     "evalue": "'builtin_function_or_method' object has no attribute 'close'",
     "output_type": "error",
     "traceback": [
      "\u001b[0;31m---------------------------------------------------------------------------\u001b[0m",
      "\u001b[0;31mAttributeError\u001b[0m                            Traceback (most recent call last)",
      "Cell \u001b[0;32mIn[3], line 17\u001b[0m\n\u001b[1;32m     14\u001b[0m             \u001b[38;5;28;01mreturn\u001b[39;00m \u001b[38;5;124m\"\u001b[39m\u001b[38;5;124mLogged In\u001b[39m\u001b[38;5;124m\"\u001b[39m\n\u001b[1;32m     15\u001b[0m     \u001b[38;5;28;01mreturn\u001b[39;00m \u001b[38;5;124m\"\u001b[39m\u001b[38;5;124mIncorrect Password\u001b[39m\u001b[38;5;124m\"\u001b[39m\n\u001b[0;32m---> 17\u001b[0m \u001b[43mcursor\u001b[49m\u001b[38;5;241;43m.\u001b[39;49m\u001b[43mclose\u001b[49m()\n\u001b[1;32m     18\u001b[0m conn\u001b[38;5;241m.\u001b[39mclose()\n",
      "\u001b[0;31mAttributeError\u001b[0m: 'builtin_function_or_method' object has no attribute 'close'"
     ]
    }
   ],
   "source": [
    "import sqlite3\n",
    "conn = sqlite3.connect('table.db') # insert user/password database file name here\n",
    "cursor = conn.cursor # create cursor object\n",
    "\n",
    "def login(user, password):\n",
    "    search_user = 'user'\n",
    "    cursor.execute(\"SELECT * FROM table WHERE column_name = ?\",(search_user,)) # searches the database for the entered username\n",
    "    result = cursor.fetchall() \n",
    "    if result == null: # checks if an account with such a username exists\n",
    "        return \"No Username\"\n",
    "    for row in result:\n",
    "        correct_password = result[0] # assumes the correct password is kept in column index 1 of the database \n",
    "        if password == correct_password: # compares entered password and possible correct passwords (assuming duplicate usernames are allowed)\n",
    "            return \"Logged In\"\n",
    "    return \"Incorrect Password\"\n",
    "\n",
    "cursor.close()\n",
    "conn.close()"
   ]
  },
  {
   "cell_type": "code",
   "execution_count": 5,
   "id": "4b94fa23-6ec7-4cd0-9258-ebac10f668d0",
   "metadata": {},
   "outputs": [
    {
     "ename": "SyntaxError",
     "evalue": "invalid syntax (2165745484.py, line 10)",
     "output_type": "error",
     "traceback": [
      "\u001b[0;36m  Cell \u001b[0;32mIn[5], line 10\u001b[0;36m\u001b[0m\n\u001b[0;31m    return result[?] # replace ? with the column index of the point value assigned to the question\u001b[0m\n\u001b[0m                  ^\u001b[0m\n\u001b[0;31mSyntaxError\u001b[0m\u001b[0;31m:\u001b[0m invalid syntax\n"
     ]
    }
   ],
   "source": [
    "import sqlite3\n",
    "conn = sqlite3.connect('table.db') # insert question database file name here\n",
    "cursor = conn.cursor # create cursor object\n",
    "\n",
    "def correctness(questionNum, answer): # function assumes that column 0 is question id and column 1 is the correct response\n",
    "    search_num = questionNum\n",
    "    cursor.execute(\"SELECT * FROM table WHERE column_name = ?\",(search_num,))\n",
    "    result = cursor.fetchall()\n",
    "    if answer == result[1]:  # checks if entry equals the correct answer\n",
    "        return result[?] # replace ? with the column index of the point value assigned to the question\n",
    "    else\n",
    "        return 0\n",
    "\n",
    "cursor.close()\n",
    "conn.close()"
   ]
  },
  {
   "cell_type": "code",
   "execution_count": null,
   "id": "ffb23a84-5561-47e0-a404-3a49ca5b52fc",
   "metadata": {},
   "outputs": [],
   "source": []
  }
 ],
 "metadata": {
  "kernelspec": {
   "display_name": "Python 3 (ipykernel)",
   "language": "python",
   "name": "python3"
  },
  "language_info": {
   "codemirror_mode": {
    "name": "ipython",
    "version": 3
   },
   "file_extension": ".py",
   "mimetype": "text/x-python",
   "name": "python",
   "nbconvert_exporter": "python",
   "pygments_lexer": "ipython3",
   "version": "3.9.6"
  }
 },
 "nbformat": 4,
 "nbformat_minor": 5
}
