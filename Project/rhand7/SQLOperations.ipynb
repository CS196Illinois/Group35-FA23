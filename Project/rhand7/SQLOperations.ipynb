{
 "cells": [
  {
   "cell_type": "code",
   "execution_count": 1,
   "id": "41d23ba1-e12f-4cb0-8e5f-72a5ab28a011",
   "metadata": {
    "scrolled": true
   },
   "outputs": [],
   "source": [
    "import sqlite3\n",
    "conn = sqlite3.connect('main.db') # insert user/password database file name here\n",
    "cursor = conn.cursor() # create cursor object"
   ]
  },
  {
   "cell_type": "code",
   "execution_count": 71,
   "id": "f80eaf11-c158-43b0-a993-255892683e22",
   "metadata": {},
   "outputs": [],
   "source": [
    "def register(username:str, password:str, fName:str, lName:str) -> str:\n",
    "    cursor.execute(f\"SELECT * FROM Users WHERE Username=?;\", [username])\n",
    "    if len(cursor.fetchall()) > 0 :\n",
    "        return \"Username already exists.\"\n",
    "    else:\n",
    "        cursor.execute(\"INSERT INTO Users VALUES (?, ?, ?, ?);\", [username, password, fName, lName])\n",
    "        cursor.execute(\"INSERT INTO Scores VALUES (?,?);\", [username, 0])\n",
    "        conn.commit()\n",
    "        return \"Successful\""
   ]
  },
  {
   "cell_type": "code",
   "execution_count": 28,
   "id": "ddd69258-23da-47b2-a1c2-c5409312aaed",
   "metadata": {},
   "outputs": [],
   "source": [
    "def login(user, password):\n",
    "    cursor.execute(\"SELECT * FROM Users WHERE Username = ?\",[user]) # searches the database for the entered username\n",
    "    result = cursor.fetchall()\n",
    "    print(result)\n",
    "    if len(result) == 0: # checks if an account with such a username exists\n",
    "        return \"No Username\"\n",
    "    correct_password = result[0][1] # assumes the correct password is kept in column index 1 of the database \n",
    "    if password == correct_password: # compares entered password and possible correct passwords (assuming duplicate usernames are allowed)\n",
    "        return \"Logged In\"\n",
    "    return \"Incorrect Password\""
   ]
  },
  {
   "cell_type": "code",
   "execution_count": 19,
   "id": "4b94fa23-6ec7-4cd0-9258-ebac10f668d0",
   "metadata": {},
   "outputs": [],
   "source": [
    "def correctness(questionNum, answer): #answer is entered as string or as 2-d array entry\n",
    "    search_num = questionNum\n",
    "    cursor.execute(\"SELECT * FROM Questions WHERE QuestionID = ?\",[search_num])\n",
    "    result = cursor.fetchall()\n",
    "    if answer == result[0][4]:  # checks if entry equals the correct answer\n",
    "        return result[0][3] # replace ? with the column index of the point value assigned to the question\n",
    "    else:\n",
    "        return 0"
   ]
  },
  {
   "cell_type": "code",
   "execution_count": 66,
   "id": "ffb23a84-5561-47e0-a404-3a49ca5b52fc",
   "metadata": {},
   "outputs": [],
   "source": [
    "import random\n",
    "def shuffle(question_num):\n",
    "    cursor.execute(\"SELECT * FROM Questions WHERE QuestionID = (?)\",[question_num]) #parses database for question id\n",
    "    result = cursor.fetchall()\n",
    "    question_list = [result[0][4], result[0][5], result[0][6], result[0][7]] #assembles list of question options\n",
    "    random.shuffle(question_list) #shuffles list\n",
    "    return question_list #returns shuffled list"
   ]
  },
  {
   "cell_type": "code",
   "execution_count": 54,
   "id": "5a89bce5-8306-4714-8610-7e0d89ab3b01",
   "metadata": {},
   "outputs": [],
   "source": [
    "def addPoints(questionId, answer, user): #note, as of 10/31, you can answer the same question multiple times and farm infinite points.\n",
    "    newPoints = correctness(questionId, answer) #finds number of points earned from previous function\n",
    "    cursor.execute(\"SELECT * FROM Scores WHERE Username = (?)\",[user]) #finds number of points from the points table\n",
    "    result = cursor.fetchall()\n",
    "    updated_points = result[0][1] + newPoints #adds old points and newly earned points\n",
    "    cursor.execute(\"UPDATE Scores SET Points = (?) WHERE Username = (?)\", [updated_points, user]) #updates table value for username\n",
    "    conn.commit()"
   ]
  }
 ],
 "metadata": {
  "kernelspec": {
   "display_name": "Python 3 (ipykernel)",
   "language": "python",
   "name": "python3"
  },
  "language_info": {
   "codemirror_mode": {
    "name": "ipython",
    "version": 3
   },
   "file_extension": ".py",
   "mimetype": "text/x-python",
   "name": "python",
   "nbconvert_exporter": "python",
   "pygments_lexer": "ipython3",
   "version": "3.9.6"
  }
 },
 "nbformat": 4,
 "nbformat_minor": 5
}
