{
 "cells": [
  {
   "cell_type": "code",
   "execution_count": 1,
   "id": "ef3e1f4c",
   "metadata": {},
   "outputs": [],
   "source": [
    "import sqlite3 as sql\n",
    "conn = sql.connect(\"main.db\")\n",
    "cursor = conn.cursor()"
   ]
  },
  {
   "cell_type": "code",
   "execution_count": 11,
   "id": "23248ff8",
   "metadata": {},
   "outputs": [
    {
     "data": {
      "text/plain": [
       "<sqlite3.Cursor at 0x7fbe2a547d50>"
      ]
     },
     "execution_count": 11,
     "metadata": {},
     "output_type": "execute_result"
    }
   ],
   "source": [
    "# creating user table\n",
    "cursor.execute(\"\"\"CREATE TABLE Users (\n",
    "               Username VARCHAR(100), \n",
    "               Password VARCHAR(100), \n",
    "               FirstName VARCHAR(100), \n",
    "               LastName VARCHAR(100)\n",
    "               );\"\"\")"
   ]
  },
  {
   "cell_type": "code",
   "execution_count": 12,
   "id": "d99a6f1a",
   "metadata": {},
   "outputs": [
    {
     "data": {
      "text/plain": [
       "<sqlite3.Cursor at 0x7fbe2a547d50>"
      ]
     },
     "execution_count": 12,
     "metadata": {},
     "output_type": "execute_result"
    }
   ],
   "source": [
    "# creating question table\n",
    "cursor.execute(\"\"\"CREATE TABLE Questions (\n",
    "               Question VARCHAR(100),\n",
    "               Company VARCHAR(100),\n",
    "               Points INT,\n",
    "               Choices VARCHAR(100),\n",
    "               CorrectChoice VARCHAR(100)\n",
    "                );\"\"\")\n",
    "\n",
    "# question choices will be stored as a comma-separated list in a string"
   ]
  },
  {
   "cell_type": "code",
   "execution_count": 13,
   "id": "32678875",
   "metadata": {},
   "outputs": [
    {
     "data": {
      "text/plain": [
       "<sqlite3.Cursor at 0x7fbe2a547d50>"
      ]
     },
     "execution_count": 13,
     "metadata": {},
     "output_type": "execute_result"
    }
   ],
   "source": [
    "# creating score table\n",
    "cursor.execute(\"\"\"CREATE TABLE Scores (\n",
    "               Username VARCHAR(100),\n",
    "               Points INT\n",
    "                );\"\"\")"
   ]
  },
  {
   "cell_type": "code",
   "execution_count": null,
   "id": "a8959c86",
   "metadata": {},
   "outputs": [],
   "source": []
  }
 ],
 "metadata": {
  "kernelspec": {
   "display_name": "Python 3 (ipykernel)",
   "language": "python",
   "name": "python3"
  },
  "language_info": {
   "codemirror_mode": {
    "name": "ipython",
    "version": 3
   },
   "file_extension": ".py",
   "mimetype": "text/x-python",
   "name": "python",
   "nbconvert_exporter": "python",
   "pygments_lexer": "ipython3",
   "version": "3.7.0"
  }
 },
 "nbformat": 4,
 "nbformat_minor": 5
}
