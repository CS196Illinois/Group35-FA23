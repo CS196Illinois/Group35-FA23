{
 "cells": [
  {
   "cell_type": "code",
   "execution_count": 14,
   "id": "491d2d36",
   "metadata": {},
   "outputs": [],
   "source": [
    "import sqlite3 as sql\n",
    "conn = sql.connect(\"main.db\")\n",
    "cursor = conn.cursor()"
   ]
  },
  {
   "cell_type": "code",
   "execution_count": 15,
   "id": "b5b01436",
   "metadata": {},
   "outputs": [
    {
     "data": {
      "text/plain": [
       "<sqlite3.Cursor at 0x7fa7bc867420>"
      ]
     },
     "execution_count": 15,
     "metadata": {},
     "output_type": "execute_result"
    }
   ],
   "source": [
    "# creating user table\n",
    "cursor.execute(\"\"\"CREATE TABLE Users (\n",
    "                Username VARCHAR(100) PRIMARY KEY, \n",
    "                Password VARCHAR(100), \n",
    "                FirstName VARCHAR(100), \n",
    "                LastName VARCHAR(100)\n",
    "               );\"\"\")"
   ]
  },
  {
   "cell_type": "code",
   "execution_count": 16,
   "id": "819409ad",
   "metadata": {},
   "outputs": [
    {
     "data": {
      "text/plain": [
       "<sqlite3.Cursor at 0x7fa7bc867420>"
      ]
     },
     "execution_count": 16,
     "metadata": {},
     "output_type": "execute_result"
    }
   ],
   "source": [
    "# creating question table\n",
    "cursor.execute(\"\"\"CREATE TABLE Questions (\n",
    "                QuestionID INT PRIMARY KEY,\n",
    "                Question VARCHAR(100),\n",
    "                Company VARCHAR(100),\n",
    "                Points INT,\n",
    "                CorrectChoice VARCHAR(100),\n",
    "                IncorrectOne VARCHAR(100),\n",
    "                IncorrectTwo VARCHAR(100),\n",
    "                IncorrectThree VARCHAR(100)\n",
    "                );\"\"\")\n",
    "\n",
    "# question choices will be stored as a comma-separated list in a string"
   ]
  },
  {
   "cell_type": "code",
   "execution_count": 17,
   "id": "9953ee77",
   "metadata": {},
   "outputs": [
    {
     "data": {
      "text/plain": [
       "<sqlite3.Cursor at 0x7fa7bc867420>"
      ]
     },
     "execution_count": 17,
     "metadata": {},
     "output_type": "execute_result"
    }
   ],
   "source": [
    "# creating score table\n",
    "cursor.execute(\"\"\"CREATE TABLE Scores (\n",
    "               Username VARCHAR(100) PRIMARY KEY,\n",
    "               Points INT\n",
    "                );\"\"\")"
   ]
  },
  {
   "cell_type": "code",
   "execution_count": 18,
   "id": "bf9a5a5d",
   "metadata": {},
   "outputs": [],
   "source": [
    "def register(username:str, password:str, fName:str, lName:str) -> str:\n",
    "    cursor.execute(f\"SELECT * FROM Users WHERE Username=?;\", [username])\n",
    "    if len(cursor.fetchall()) > 0 :\n",
    "        return \"Username already exists.\"\n",
    "    else:\n",
    "        cursor.execute(\"INSERT INTO Users VALUES (?, ?, ?, ?);\", [username, password, fName, lName])\n",
    "        return \"Successful\"\n"
   ]
  },
  {
   "cell_type": "code",
   "execution_count": 19,
   "id": "a602b1bf",
   "metadata": {},
   "outputs": [],
   "source": [
    "conn.commit()"
   ]
  },
  {
   "cell_type": "code",
   "execution_count": null,
   "id": "f254adec",
   "metadata": {},
   "outputs": [],
   "source": []
  }
 ],
 "metadata": {
  "kernelspec": {
   "display_name": "Python 3 (ipykernel)",
   "language": "python",
   "name": "python3"
  },
  "language_info": {
   "codemirror_mode": {
    "name": "ipython",
    "version": 3
   },
   "file_extension": ".py",
   "mimetype": "text/x-python",
   "name": "python",
   "nbconvert_exporter": "python",
   "pygments_lexer": "ipython3",
   "version": "3.7.0"
  }
 },
 "nbformat": 4,
 "nbformat_minor": 5
}
