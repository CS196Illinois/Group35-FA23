{
 "cells": [
  {
   "cell_type": "code",
   "execution_count": 1,
   "id": "9ab5ef22-a48d-40fc-9c91-34f3a4947760",
   "metadata": {},
   "outputs": [
    {
     "name": "stderr",
     "output_type": "stream",
     "text": [
      "WARNING: This is a development server. Do not use it in a production deployment. Use a production WSGI server instead.\n",
      " * Running on http://localhost:8080\n",
      "Press CTRL+C to quit\n",
      "127.0.0.1 - - [15/Nov/2023 12:10:23] \"GET / HTTP/1.1\" 404 -\n",
      "127.0.0.1 - - [15/Nov/2023 12:10:49] \"GET / HTTP/1.1\" 404 -\n"
     ]
    }
   ],
   "source": [
    "# basic imports, just like you would normally use in a python file\n",
    "from werkzeug.wrappers import Request, Response\n",
    "from flask import Flask, render_template, request, url_for, flash, redirect\n",
    "\n",
    "# this sets up your flask app - you can treat this and the above imports and basic starter syntax\n",
    "# that you will always use anytime you want to create a new flask app\n",
    "app = Flask(__name__, template_folder='templates', static_folder='static')\n",
    "app.config['SECRET_KEY'] = 'superdupersecretkeythatnobodywouldeverguess'\n",
    "\n",
    "\n",
    "@app.route('/lessons', methods=['POST'])\n",
    "def lessons():\n",
    "    if request.method == 'POST':\n",
    "        x = request.form['text']\n",
    "        print(x)\n",
    "    return render_template('lessons.html')\n",
    "    \n",
    "\n",
    "if __name__ == '__main__':\n",
    "    from werkzeug.serving import run_simple\n",
    "    run_simple('localhost', 8080, app)\n",
    "    "
   ]
  }
 ],
 "metadata": {
  "kernelspec": {
   "display_name": "Python 3 (ipykernel)",
   "language": "python",
   "name": "python3"
  },
  "language_info": {
   "codemirror_mode": {
    "name": "ipython",
    "version": 3
   },
   "file_extension": ".py",
   "mimetype": "text/x-python",
   "name": "python",
   "nbconvert_exporter": "python",
   "pygments_lexer": "ipython3",
   "version": "3.12.0"
  }
 },
 "nbformat": 4,
 "nbformat_minor": 5
}
