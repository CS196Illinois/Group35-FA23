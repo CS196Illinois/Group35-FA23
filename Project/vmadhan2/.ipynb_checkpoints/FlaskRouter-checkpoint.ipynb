{
 "cells": [
  {
   "cell_type": "code",
   "execution_count": null,
   "id": "9ab5ef22-a48d-40fc-9c91-34f3a4947760",
   "metadata": {},
   "outputs": [],
   "source": [
    "# basic imports, just like you would normally use in a python file\n",
    "from werkzeug.wrappers import Request, Response\n",
    "from flask import Flask, render_template, request, url_for, flash, redirect\n",
    "\n",
    "# this sets up your flask app - you can treat this and the above imports and basic starter syntax\n",
    "# that you will always use anytime you want to create a new flask app\n",
    "app = Flask(__name__)\n",
    "app.config['SECRET_KEY'] = 'superdupersecretkeythatnobodywouldeverguess'\n",
    "\n",
    "\n",
    "# this app.route handles the lessons route for the 5 companies\n",
    "@app.route(\"/lessons\")\n",
    "def lessons():\n",
    "    x = str(request.form[\"apple\"]\n",
    "    print(x)\n",
    "    x = str(request.form[\"microsoft\"]\n",
    "    print(x)\n",
    "    x = str(request.form[\"amazon\"]\n",
    "    print(x)\n",
    "    x = str(request.form[\"facebook\"]\n",
    "    print(x)\n",
    "    x = str(request.form[\"walmart\"]\n",
    "    print(x)\n",
    "# this app.route handles the practice route for the 5 companies\n",
    "@app.route(\"/practice\")\n",
    "def practice():\n",
    "    x = str(request.form[\"apple\"]\n",
    "    print(x)\n",
    "    x = str(request.form[\"microsoft\"]\n",
    "    print(x)\n",
    "    x = str(request.form[\"amazon\"]\n",
    "    print(x)\n",
    "    x = str(request.form[\"facebook\"]\n",
    "    print(x)\n",
    "    x = str(request.form[\"walmart\"]\n",
    "    print(x)\n",
    "    "
   ]
  }
 ],
 "metadata": {
  "kernelspec": {
   "display_name": "Python 3 (ipykernel)",
   "language": "python",
   "name": "python3"
  },
  "language_info": {
   "codemirror_mode": {
    "name": "ipython",
    "version": 3
   },
   "file_extension": ".py",
   "mimetype": "text/x-python",
   "name": "python",
   "nbconvert_exporter": "python",
   "pygments_lexer": "ipython3",
   "version": "3.12.0"
  }
 },
 "nbformat": 4,
 "nbformat_minor": 5
}
