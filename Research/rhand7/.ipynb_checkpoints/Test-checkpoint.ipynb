{
 "cells": [
  {
   "cell_type": "code",
   "execution_count": 1,
   "id": "4dfc9704-6c57-4baf-af49-4960bfffd5d5",
   "metadata": {},
   "outputs": [],
   "source": [
    "import sqlite3 as sql\n",
    "conn = sql.connect(\"DBName.db\")\n",
    "cur = conn.cursor()"
   ]
  },
  {
   "cell_type": "code",
   "execution_count": null,
   "id": "d8579395-6f1f-457b-9519-98f2963b6f9c",
   "metadata": {},
   "outputs": [],
   "source": [
    "#create table\n",
    "cur.execute(\"CREATE TABLE sample_table (var1 VARCHAR(100), var2 INT, var3 BOOL, PRIMARY KEY(var1));\")\n",
    "cur.fetchall()"
   ]
  },
  {
   "cell_type": "code",
   "execution_count": 4,
   "id": "c9e6e287-4c98-4ee8-8b90-76aec695b177",
   "metadata": {},
   "outputs": [
    {
     "data": {
      "text/plain": [
       "[('test', 7, 1), ('test5', 7, 1)]"
      ]
     },
     "execution_count": 4,
     "metadata": {},
     "output_type": "execute_result"
    }
   ],
   "source": [
    "#print table\n",
    "cur.execute(\"SELECT * FROM sample_table\")\n",
    "cur.fetchall()"
   ]
  },
  {
   "cell_type": "code",
   "execution_count": 3,
   "id": "4334eaf2-c4d7-4fab-99cc-e1e761f2ee90",
   "metadata": {},
   "outputs": [
    {
     "data": {
      "text/plain": [
       "[]"
      ]
     },
     "execution_count": 3,
     "metadata": {},
     "output_type": "execute_result"
    }
   ],
   "source": [
    "# add new value\n",
    "cur.execute(\"INSERT INTO sample_table VALUES (?, ?, ?);\", [\"test\", 7, 1])\n",
    "cur.fetchall()"
   ]
  },
  {
   "cell_type": "code",
   "execution_count": null,
   "id": "b77d24c6-642e-46b8-bddb-662ac6cf92f4",
   "metadata": {},
   "outputs": [],
   "source": [
    "# save values\n",
    "conn.commit()"
   ]
  }
 ],
 "metadata": {
  "kernelspec": {
   "display_name": "Python 3 (ipykernel)",
   "language": "python",
   "name": "python3"
  },
  "language_info": {
   "codemirror_mode": {
    "name": "ipython",
    "version": 3
   },
   "file_extension": ".py",
   "mimetype": "text/x-python",
   "name": "python",
   "nbconvert_exporter": "python",
   "pygments_lexer": "ipython3",
   "version": "3.9.6"
  }
 },
 "nbformat": 4,
 "nbformat_minor": 5
}
