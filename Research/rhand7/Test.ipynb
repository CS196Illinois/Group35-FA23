{
 "cells": [
  {
   "cell_type": "code",
   "execution_count": 33,
   "id": "4dfc9704-6c57-4baf-af49-4960bfffd5d5",
   "metadata": {},
   "outputs": [],
   "source": [
    "import sqlite3 as sql\n",
    "conn = sql.connect(\"DBName.db\")\n",
    "cur = conn.cursor()"
   ]
  },
  {
   "cell_type": "code",
   "execution_count": 34,
   "id": "d8579395-6f1f-457b-9519-98f2963b6f9c",
   "metadata": {},
   "outputs": [],
   "source": [
    "#create table\n",
    "#cur.execute(\"CREATE TABLE sample_table (var1 VARCHAR(100), var2 INT, var3 BOOL, PRIMARY KEY(var1));\")\n",
    "#cur.fetchall()"
   ]
  },
  {
   "cell_type": "code",
   "execution_count": 35,
   "id": "c9e6e287-4c98-4ee8-8b90-76aec695b177",
   "metadata": {},
   "outputs": [
    {
     "ename": "TypeError",
     "evalue": "Cursor.fetchall() takes no arguments (1 given)",
     "output_type": "error",
     "traceback": [
      "\u001b[0;31m---------------------------------------------------------------------------\u001b[0m",
      "\u001b[0;31mTypeError\u001b[0m                                 Traceback (most recent call last)",
      "Cell \u001b[0;32mIn[35], line 3\u001b[0m\n\u001b[1;32m      1\u001b[0m \u001b[38;5;66;03m#print table\u001b[39;00m\n\u001b[1;32m      2\u001b[0m cur\u001b[38;5;241m.\u001b[39mexecute(\u001b[38;5;124m\"\u001b[39m\u001b[38;5;124mSELECT * FROM sample_table\u001b[39m\u001b[38;5;124m\"\u001b[39m)\n\u001b[0;32m----> 3\u001b[0m \u001b[38;5;28mprint\u001b[39m(\u001b[43mcur\u001b[49m\u001b[38;5;241;43m.\u001b[39;49m\u001b[43mfetchall\u001b[49m\u001b[43m(\u001b[49m\u001b[38;5;241;43m0\u001b[39;49m\u001b[43m)\u001b[49m)\n\u001b[1;32m      4\u001b[0m \u001b[38;5;28mprint\u001b[39m(cur\u001b[38;5;241m.\u001b[39mfetchone())\n",
      "\u001b[0;31mTypeError\u001b[0m: Cursor.fetchall() takes no arguments (1 given)"
     ]
    }
   ],
   "source": [
    "#print table\n",
    "cur.execute(\"SELECT * FROM sample_table\")\n",
    "print(cur.fetchall())"
   ]
  },
  {
   "cell_type": "code",
   "execution_count": null,
   "id": "4334eaf2-c4d7-4fab-99cc-e1e761f2ee90",
   "metadata": {},
   "outputs": [],
   "source": [
    "# add new value\n",
    "#cur.execute(\"INSERT INTO sample_table VALUES (?, ?, ?);\", [\"test\", 7, 1])\n",
    "#cur.fetchall()"
   ]
  },
  {
   "cell_type": "code",
   "execution_count": null,
   "id": "b77d24c6-642e-46b8-bddb-662ac6cf92f4",
   "metadata": {},
   "outputs": [],
   "source": [
    "# save values\n",
    "#conn.commit()"
   ]
  }
 ],
 "metadata": {
  "kernelspec": {
   "display_name": "Python 3 (ipykernel)",
   "language": "python",
   "name": "python3"
  },
  "language_info": {
   "codemirror_mode": {
    "name": "ipython",
    "version": 3
   },
   "file_extension": ".py",
   "mimetype": "text/x-python",
   "name": "python",
   "nbconvert_exporter": "python",
   "pygments_lexer": "ipython3",
   "version": "3.9.6"
  }
 },
 "nbformat": 4,
 "nbformat_minor": 5
}
